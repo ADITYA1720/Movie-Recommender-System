{
  "nbformat": 4,
  "nbformat_minor": 0,
  "metadata": {
    "colab": {
      "provenance": []
    },
    "kernelspec": {
      "name": "python3",
      "display_name": "Python 3"
    },
    "language_info": {
      "name": "python"
    }
  },
  "cells": [
    {
      "cell_type": "code",
      "execution_count": 235,
      "metadata": {
        "id": "cCVb2pCToSAJ"
      },
      "outputs": [],
      "source": [
        "import pandas as pd\n",
        "from sklearn.metrics.pairwise import cosine_similarity\n",
        "from sklearn.model_selection import train_test_split\n",
        "from sklearn.metrics import mean_squared_error\n",
        "import numpy as np"
      ]
    },
    {
      "cell_type": "code",
      "source": [
        "ratings = pd.read_csv(\"ratings.csv\")\n",
        "movies = pd.read_csv(\"movies.csv\")"
      ],
      "metadata": {
        "id": "K8TJ8Id1oi7t"
      },
      "execution_count": 576,
      "outputs": []
    },
    {
      "cell_type": "code",
      "source": [
        "ratings.head()"
      ],
      "metadata": {
        "colab": {
          "base_uri": "https://localhost:8080/",
          "height": 201
        },
        "id": "j8190G1bL3Fm",
        "outputId": "2c1dd3e4-79ef-4153-e918-edf2e5192f66"
      },
      "execution_count": 272,
      "outputs": [
        {
          "output_type": "execute_result",
          "data": {
            "text/plain": [
              "   userId  movieId  rating  timestamp\n",
              "0       1        1     4.0  964982703\n",
              "1       1        3     4.0  964981247\n",
              "2       1        6     4.0  964982224\n",
              "3       1       47     5.0  964983815\n",
              "4       1       50     5.0  964982931"
            ],
            "text/html": [
              "\n",
              "  <div id=\"df-0144fdc3-c490-4f5a-8492-93abde9a75a9\" class=\"colab-df-container\">\n",
              "    <div>\n",
              "<style scoped>\n",
              "    .dataframe tbody tr th:only-of-type {\n",
              "        vertical-align: middle;\n",
              "    }\n",
              "\n",
              "    .dataframe tbody tr th {\n",
              "        vertical-align: top;\n",
              "    }\n",
              "\n",
              "    .dataframe thead th {\n",
              "        text-align: right;\n",
              "    }\n",
              "</style>\n",
              "<table border=\"1\" class=\"dataframe\">\n",
              "  <thead>\n",
              "    <tr style=\"text-align: right;\">\n",
              "      <th></th>\n",
              "      <th>userId</th>\n",
              "      <th>movieId</th>\n",
              "      <th>rating</th>\n",
              "      <th>timestamp</th>\n",
              "    </tr>\n",
              "  </thead>\n",
              "  <tbody>\n",
              "    <tr>\n",
              "      <th>0</th>\n",
              "      <td>1</td>\n",
              "      <td>1</td>\n",
              "      <td>4.0</td>\n",
              "      <td>964982703</td>\n",
              "    </tr>\n",
              "    <tr>\n",
              "      <th>1</th>\n",
              "      <td>1</td>\n",
              "      <td>3</td>\n",
              "      <td>4.0</td>\n",
              "      <td>964981247</td>\n",
              "    </tr>\n",
              "    <tr>\n",
              "      <th>2</th>\n",
              "      <td>1</td>\n",
              "      <td>6</td>\n",
              "      <td>4.0</td>\n",
              "      <td>964982224</td>\n",
              "    </tr>\n",
              "    <tr>\n",
              "      <th>3</th>\n",
              "      <td>1</td>\n",
              "      <td>47</td>\n",
              "      <td>5.0</td>\n",
              "      <td>964983815</td>\n",
              "    </tr>\n",
              "    <tr>\n",
              "      <th>4</th>\n",
              "      <td>1</td>\n",
              "      <td>50</td>\n",
              "      <td>5.0</td>\n",
              "      <td>964982931</td>\n",
              "    </tr>\n",
              "  </tbody>\n",
              "</table>\n",
              "</div>\n",
              "    <div class=\"colab-df-buttons\">\n",
              "\n",
              "  <div class=\"colab-df-container\">\n",
              "    <button class=\"colab-df-convert\" onclick=\"convertToInteractive('df-0144fdc3-c490-4f5a-8492-93abde9a75a9')\"\n",
              "            title=\"Convert this dataframe to an interactive table.\"\n",
              "            style=\"display:none;\">\n",
              "\n",
              "  <svg xmlns=\"http://www.w3.org/2000/svg\" height=\"24px\" viewBox=\"0 -960 960 960\">\n",
              "    <path d=\"M120-120v-720h720v720H120Zm60-500h600v-160H180v160Zm220 220h160v-160H400v160Zm0 220h160v-160H400v160ZM180-400h160v-160H180v160Zm440 0h160v-160H620v160ZM180-180h160v-160H180v160Zm440 0h160v-160H620v160Z\"/>\n",
              "  </svg>\n",
              "    </button>\n",
              "\n",
              "  <style>\n",
              "    .colab-df-container {\n",
              "      display:flex;\n",
              "      gap: 12px;\n",
              "    }\n",
              "\n",
              "    .colab-df-convert {\n",
              "      background-color: #E8F0FE;\n",
              "      border: none;\n",
              "      border-radius: 50%;\n",
              "      cursor: pointer;\n",
              "      display: none;\n",
              "      fill: #1967D2;\n",
              "      height: 32px;\n",
              "      padding: 0 0 0 0;\n",
              "      width: 32px;\n",
              "    }\n",
              "\n",
              "    .colab-df-convert:hover {\n",
              "      background-color: #E2EBFA;\n",
              "      box-shadow: 0px 1px 2px rgba(60, 64, 67, 0.3), 0px 1px 3px 1px rgba(60, 64, 67, 0.15);\n",
              "      fill: #174EA6;\n",
              "    }\n",
              "\n",
              "    .colab-df-buttons div {\n",
              "      margin-bottom: 4px;\n",
              "    }\n",
              "\n",
              "    [theme=dark] .colab-df-convert {\n",
              "      background-color: #3B4455;\n",
              "      fill: #D2E3FC;\n",
              "    }\n",
              "\n",
              "    [theme=dark] .colab-df-convert:hover {\n",
              "      background-color: #434B5C;\n",
              "      box-shadow: 0px 1px 3px 1px rgba(0, 0, 0, 0.15);\n",
              "      filter: drop-shadow(0px 1px 2px rgba(0, 0, 0, 0.3));\n",
              "      fill: #FFFFFF;\n",
              "    }\n",
              "  </style>\n",
              "\n",
              "    <script>\n",
              "      const buttonEl =\n",
              "        document.querySelector('#df-0144fdc3-c490-4f5a-8492-93abde9a75a9 button.colab-df-convert');\n",
              "      buttonEl.style.display =\n",
              "        google.colab.kernel.accessAllowed ? 'block' : 'none';\n",
              "\n",
              "      async function convertToInteractive(key) {\n",
              "        const element = document.querySelector('#df-0144fdc3-c490-4f5a-8492-93abde9a75a9');\n",
              "        const dataTable =\n",
              "          await google.colab.kernel.invokeFunction('convertToInteractive',\n",
              "                                                    [key], {});\n",
              "        if (!dataTable) return;\n",
              "\n",
              "        const docLinkHtml = 'Like what you see? Visit the ' +\n",
              "          '<a target=\"_blank\" href=https://colab.research.google.com/notebooks/data_table.ipynb>data table notebook</a>'\n",
              "          + ' to learn more about interactive tables.';\n",
              "        element.innerHTML = '';\n",
              "        dataTable['output_type'] = 'display_data';\n",
              "        await google.colab.output.renderOutput(dataTable, element);\n",
              "        const docLink = document.createElement('div');\n",
              "        docLink.innerHTML = docLinkHtml;\n",
              "        element.appendChild(docLink);\n",
              "      }\n",
              "    </script>\n",
              "  </div>\n",
              "\n",
              "\n",
              "<div id=\"df-d68a280c-bfd5-4a36-a5cd-88d074e6dae0\">\n",
              "  <button class=\"colab-df-quickchart\" onclick=\"quickchart('df-d68a280c-bfd5-4a36-a5cd-88d074e6dae0')\"\n",
              "            title=\"Suggest charts\"\n",
              "            style=\"display:none;\">\n",
              "\n",
              "<svg xmlns=\"http://www.w3.org/2000/svg\" height=\"24px\"viewBox=\"0 0 24 24\"\n",
              "     width=\"24px\">\n",
              "    <g>\n",
              "        <path d=\"M19 3H5c-1.1 0-2 .9-2 2v14c0 1.1.9 2 2 2h14c1.1 0 2-.9 2-2V5c0-1.1-.9-2-2-2zM9 17H7v-7h2v7zm4 0h-2V7h2v10zm4 0h-2v-4h2v4z\"/>\n",
              "    </g>\n",
              "</svg>\n",
              "  </button>\n",
              "\n",
              "<style>\n",
              "  .colab-df-quickchart {\n",
              "      --bg-color: #E8F0FE;\n",
              "      --fill-color: #1967D2;\n",
              "      --hover-bg-color: #E2EBFA;\n",
              "      --hover-fill-color: #174EA6;\n",
              "      --disabled-fill-color: #AAA;\n",
              "      --disabled-bg-color: #DDD;\n",
              "  }\n",
              "\n",
              "  [theme=dark] .colab-df-quickchart {\n",
              "      --bg-color: #3B4455;\n",
              "      --fill-color: #D2E3FC;\n",
              "      --hover-bg-color: #434B5C;\n",
              "      --hover-fill-color: #FFFFFF;\n",
              "      --disabled-bg-color: #3B4455;\n",
              "      --disabled-fill-color: #666;\n",
              "  }\n",
              "\n",
              "  .colab-df-quickchart {\n",
              "    background-color: var(--bg-color);\n",
              "    border: none;\n",
              "    border-radius: 50%;\n",
              "    cursor: pointer;\n",
              "    display: none;\n",
              "    fill: var(--fill-color);\n",
              "    height: 32px;\n",
              "    padding: 0;\n",
              "    width: 32px;\n",
              "  }\n",
              "\n",
              "  .colab-df-quickchart:hover {\n",
              "    background-color: var(--hover-bg-color);\n",
              "    box-shadow: 0 1px 2px rgba(60, 64, 67, 0.3), 0 1px 3px 1px rgba(60, 64, 67, 0.15);\n",
              "    fill: var(--button-hover-fill-color);\n",
              "  }\n",
              "\n",
              "  .colab-df-quickchart-complete:disabled,\n",
              "  .colab-df-quickchart-complete:disabled:hover {\n",
              "    background-color: var(--disabled-bg-color);\n",
              "    fill: var(--disabled-fill-color);\n",
              "    box-shadow: none;\n",
              "  }\n",
              "\n",
              "  .colab-df-spinner {\n",
              "    border: 2px solid var(--fill-color);\n",
              "    border-color: transparent;\n",
              "    border-bottom-color: var(--fill-color);\n",
              "    animation:\n",
              "      spin 1s steps(1) infinite;\n",
              "  }\n",
              "\n",
              "  @keyframes spin {\n",
              "    0% {\n",
              "      border-color: transparent;\n",
              "      border-bottom-color: var(--fill-color);\n",
              "      border-left-color: var(--fill-color);\n",
              "    }\n",
              "    20% {\n",
              "      border-color: transparent;\n",
              "      border-left-color: var(--fill-color);\n",
              "      border-top-color: var(--fill-color);\n",
              "    }\n",
              "    30% {\n",
              "      border-color: transparent;\n",
              "      border-left-color: var(--fill-color);\n",
              "      border-top-color: var(--fill-color);\n",
              "      border-right-color: var(--fill-color);\n",
              "    }\n",
              "    40% {\n",
              "      border-color: transparent;\n",
              "      border-right-color: var(--fill-color);\n",
              "      border-top-color: var(--fill-color);\n",
              "    }\n",
              "    60% {\n",
              "      border-color: transparent;\n",
              "      border-right-color: var(--fill-color);\n",
              "    }\n",
              "    80% {\n",
              "      border-color: transparent;\n",
              "      border-right-color: var(--fill-color);\n",
              "      border-bottom-color: var(--fill-color);\n",
              "    }\n",
              "    90% {\n",
              "      border-color: transparent;\n",
              "      border-bottom-color: var(--fill-color);\n",
              "    }\n",
              "  }\n",
              "</style>\n",
              "\n",
              "  <script>\n",
              "    async function quickchart(key) {\n",
              "      const quickchartButtonEl =\n",
              "        document.querySelector('#' + key + ' button');\n",
              "      quickchartButtonEl.disabled = true;  // To prevent multiple clicks.\n",
              "      quickchartButtonEl.classList.add('colab-df-spinner');\n",
              "      try {\n",
              "        const charts = await google.colab.kernel.invokeFunction(\n",
              "            'suggestCharts', [key], {});\n",
              "      } catch (error) {\n",
              "        console.error('Error during call to suggestCharts:', error);\n",
              "      }\n",
              "      quickchartButtonEl.classList.remove('colab-df-spinner');\n",
              "      quickchartButtonEl.classList.add('colab-df-quickchart-complete');\n",
              "    }\n",
              "    (() => {\n",
              "      let quickchartButtonEl =\n",
              "        document.querySelector('#df-d68a280c-bfd5-4a36-a5cd-88d074e6dae0 button');\n",
              "      quickchartButtonEl.style.display =\n",
              "        google.colab.kernel.accessAllowed ? 'block' : 'none';\n",
              "    })();\n",
              "  </script>\n",
              "</div>\n",
              "\n",
              "    </div>\n",
              "  </div>\n"
            ]
          },
          "metadata": {},
          "execution_count": 272
        }
      ]
    },
    {
      "cell_type": "code",
      "source": [
        "from sklearn.model_selection import train_test_split\n",
        "train_data, test_data = train_test_split(ratings, test_size=0.5, stratify = ratings['userId'], random_state=42)"
      ],
      "metadata": {
        "id": "S6ijWaBm9sAk"
      },
      "execution_count": 237,
      "outputs": []
    },
    {
      "cell_type": "code",
      "source": [
        "from pyspark import SparkContext\n",
        "sc = SparkContext.getOrCreate()\n",
        "\n",
        "from pyspark.sql import SQLContext\n",
        "sqlContext = SQLContext(sc)\n",
        "sqlContext.createDataFrame(test_data)"
      ],
      "metadata": {
        "colab": {
          "base_uri": "https://localhost:8080/"
        },
        "id": "1_WwExwku389",
        "outputId": "d1e5bc76-2325-43c4-8f0c-3e3086d02957"
      },
      "execution_count": 238,
      "outputs": [
        {
          "output_type": "stream",
          "name": "stderr",
          "text": [
            "/usr/local/lib/python3.10/dist-packages/pyspark/sql/context.py:113: FutureWarning: Deprecated in 3.0.0. Use SparkSession.builder.getOrCreate() instead.\n",
            "  warnings.warn(\n"
          ]
        },
        {
          "output_type": "execute_result",
          "data": {
            "text/plain": [
              "DataFrame[userId: bigint, movieId: bigint, rating: double, timestamp: bigint]"
            ]
          },
          "metadata": {},
          "execution_count": 238
        }
      ]
    },
    {
      "cell_type": "code",
      "source": [
        "train_data.to_csv('train.csv')"
      ],
      "metadata": {
        "id": "I3tUnMn7-MOm"
      },
      "execution_count": 291,
      "outputs": []
    },
    {
      "cell_type": "code",
      "source": [
        "gold_data = sc.textFile('train.csv')"
      ],
      "metadata": {
        "id": "7xvoLa6BxgYE"
      },
      "execution_count": 530,
      "outputs": []
    },
    {
      "cell_type": "code",
      "source": [
        "gold_data.take(5)"
      ],
      "metadata": {
        "colab": {
          "base_uri": "https://localhost:8080/"
        },
        "id": "Y_4frcfeAHPr",
        "outputId": "2444e131-31e2-4eb0-be4c-09bee53b1e0f"
      },
      "execution_count": 531,
      "outputs": [
        {
          "output_type": "execute_result",
          "data": {
            "text/plain": [
              "[',userId,movieId,rating,timestamp',\n",
              " '95565,600,3160,3.5,1237742428',\n",
              " '28017,192,266,4.0,835129083',\n",
              " '69156,448,3146,4.0,1038736356',\n",
              " '55211,367,1,5.0,997811550']"
            ]
          },
          "metadata": {},
          "execution_count": 531
        }
      ]
    },
    {
      "cell_type": "code",
      "source": [
        "from itertools import islice\n",
        "gold_data = gold_data.mapPartitionsWithIndex(lambda index,iterator: islice(iterator,1,None) if index==0 else iterator).map(lambda row:row.split(',')).map(lambda row: row[1:4])"
      ],
      "metadata": {
        "id": "giTMMWVYyIJ_"
      },
      "execution_count": 532,
      "outputs": []
    },
    {
      "cell_type": "code",
      "source": [
        "gold_data.take(5)"
      ],
      "metadata": {
        "colab": {
          "base_uri": "https://localhost:8080/"
        },
        "id": "onXcZze7FO-X",
        "outputId": "2a52708e-9494-420d-878f-5de714e03c53"
      },
      "execution_count": 533,
      "outputs": [
        {
          "output_type": "execute_result",
          "data": {
            "text/plain": [
              "[['600', '3160', '3.5'],\n",
              " ['192', '266', '4.0'],\n",
              " ['448', '3146', '4.0'],\n",
              " ['367', '1', '5.0'],\n",
              " ['495', '8533', '5.0']]"
            ]
          },
          "metadata": {},
          "execution_count": 533
        }
      ]
    },
    {
      "cell_type": "code",
      "source": [
        "distinct_users_dict = gold_data.map(lambda x: x[0]).distinct().zipWithIndex()\\\n",
        "    .map(lambda x: (x[0], x[1])).collectAsMap()\n",
        "\n",
        "distinct_movies_dict = gold_data.map(lambda x: x[1]).distinct().zipWithIndex()\\\n",
        "    .map(lambda x: (x[0], x[1])).collectAsMap()"
      ],
      "metadata": {
        "id": "lWj724jrJ0l-"
      },
      "execution_count": 534,
      "outputs": []
    },
    {
      "cell_type": "code",
      "source": [
        "len(distinct_movies_dict)"
      ],
      "metadata": {
        "colab": {
          "base_uri": "https://localhost:8080/"
        },
        "id": "xW7YPICfKBpE",
        "outputId": "c516c48c-7d8e-48a1-ecb1-c9e356d2b299"
      },
      "execution_count": 535,
      "outputs": [
        {
          "output_type": "execute_result",
          "data": {
            "text/plain": [
              "7502"
            ]
          },
          "metadata": {},
          "execution_count": 535
        }
      ]
    },
    {
      "cell_type": "code",
      "source": [
        "movie_avg_rating_dict = gold_data.map(lambda row: (row[1], float(row[2]))).groupByKey().mapValues(list)\\\n",
        "    .map(lambda b: (b[0], float(float(sum(b[1])) / len(b[1])))).collectAsMap()\n",
        "\n",
        "user_avg_rating_dict = gold_data.map(lambda row: (row[0], float(row[2]))).groupByKey().mapValues(list)\\\n",
        "    .map(lambda b: (b[0], float(float(sum(b[1])) / len(b[1])))).collectAsMap()"
      ],
      "metadata": {
        "id": "t426FrTzEO07"
      },
      "execution_count": 536,
      "outputs": []
    },
    {
      "cell_type": "code",
      "source": [
        "user_rated_movies_ratings = gold_data.map(lambda x: (x[0], (x[1], float(x[2]))))\\\n",
        "    .groupByKey().mapValues(dict).collectAsMap()\n",
        "\n",
        "movie_rated_users_ratings = gold_data.map(lambda x: (x[1], (x[0], float(x[2]))))\\\n",
        "    .groupByKey().mapValues(dict).collectAsMap()"
      ],
      "metadata": {
        "id": "XYpWWG-KHe4A"
      },
      "execution_count": 537,
      "outputs": []
    },
    {
      "cell_type": "code",
      "source": [
        "gold_data.take(5)"
      ],
      "metadata": {
        "colab": {
          "base_uri": "https://localhost:8080/"
        },
        "collapsed": true,
        "id": "YZsz_dVYBqv0",
        "outputId": "f9362849-e37a-4fe0-be89-cf661dc48a0b"
      },
      "execution_count": 538,
      "outputs": [
        {
          "output_type": "execute_result",
          "data": {
            "text/plain": [
              "[['600', '3160', '3.5'],\n",
              " ['192', '266', '4.0'],\n",
              " ['448', '3146', '4.0'],\n",
              " ['367', '1', '5.0'],\n",
              " ['495', '8533', '5.0']]"
            ]
          },
          "metadata": {},
          "execution_count": 538
        }
      ]
    },
    {
      "cell_type": "code",
      "source": [
        "data = gold_data.map(lambda row:[row[0], row[1]])"
      ],
      "metadata": {
        "id": "RnsfWbB0GJkI"
      },
      "execution_count": 539,
      "outputs": []
    },
    {
      "cell_type": "code",
      "source": [
        "data.take(5)"
      ],
      "metadata": {
        "colab": {
          "base_uri": "https://localhost:8080/"
        },
        "collapsed": true,
        "id": "UOVfOLS_xk9k",
        "outputId": "e5247afd-197b-493e-9e55-609f4dd0966f"
      },
      "execution_count": 540,
      "outputs": [
        {
          "output_type": "execute_result",
          "data": {
            "text/plain": [
              "[['600', '3160'],\n",
              " ['192', '266'],\n",
              " ['448', '3146'],\n",
              " ['367', '1'],\n",
              " ['495', '8533']]"
            ]
          },
          "metadata": {},
          "execution_count": 540
        }
      ]
    },
    {
      "cell_type": "markdown",
      "source": [
        "## Make a Sparse Matrix"
      ],
      "metadata": {
        "id": "JLn9rm8czx7V"
      }
    },
    {
      "cell_type": "code",
      "source": [
        "movie_rated_by_users_dict = data.map(lambda x: (x[1], x[0])).groupByKey().mapValues(set).collectAsMap()"
      ],
      "metadata": {
        "id": "LCdsS6TQxot5"
      },
      "execution_count": 541,
      "outputs": []
    },
    {
      "cell_type": "code",
      "source": [
        "user_rated_movies_dict = data.map(lambda x: (x[0], x[1])).groupByKey().mapValues(set).collectAsMap()"
      ],
      "metadata": {
        "id": "bj4sjCWT1Bv7"
      },
      "execution_count": 542,
      "outputs": []
    },
    {
      "cell_type": "code",
      "source": [
        "def handle_cold_start(query):\n",
        "    user = query[0]\n",
        "    movie = query[1]\n",
        "    if movie not in distinct_movies_dict.keys():\n",
        "\n",
        "        if user not in distinct_users_dict.keys():\n",
        "            return (user, movie, 3.0)\n",
        "        return (user,movie,get_user_avg_rating(user))\n",
        "    elif user not in distinct_users_dict.keys():\n",
        "        return (user, movie, get_movie_avg_rating(movie))\n",
        "    else:\n",
        "        return (user,movie,\"hello\")"
      ],
      "metadata": {
        "id": "Ilwh7xWLJbRM"
      },
      "execution_count": 543,
      "outputs": []
    },
    {
      "cell_type": "code",
      "source": [
        "import math\n",
        "def pearson_correlation(pair, commons, user_rated_movies_ratings):\n",
        "    weights_list = []\n",
        "    ans = 0.0\n",
        "    if len(commons) > 1:\n",
        "        avg1 = sum(user_rated_movies_ratings[user][pair[0]]\n",
        "                   for user in commons)/len(commons)\n",
        "        avg2 = sum(user_rated_movies_ratings[user][pair[1]]\n",
        "                   for user in commons)/len(commons)\n",
        "        numerator = sum((user_rated_movies_ratings[user][pair[0]] - avg1) * (\n",
        "            user_rated_movies_ratings[user][pair[1]] - avg2) for user in commons)\n",
        "        denominator = math.sqrt(sum((user_rated_movies_ratings[user][pair[0]] - avg1)**2 for user in commons)) * math.sqrt(\n",
        "            sum((user_rated_movies_ratings[user][pair[1]] - avg2)**2 for user in commons))\n",
        "        if denominator > 0 and numerator > 0:\n",
        "            ans = numerator/denominator\n",
        "    else:\n",
        "        numerator = get_movie_avg_rating(pair[0])\n",
        "        denominator = get_movie_avg_rating(pair[1])\n",
        "        ans = numerator / denominator\n",
        "        if ans > 1:\n",
        "            ans = 1 / ans\n",
        "    return ans"
      ],
      "metadata": {
        "id": "Nr7R8a6hDb3Q"
      },
      "execution_count": 544,
      "outputs": []
    },
    {
      "cell_type": "code",
      "source": [
        "def get_pairs(query):\n",
        "    movies_rated_by_user = user_rated_movies_dict[query[0]]\n",
        "    return (query, [(query[1], m) for m in movies_rated_by_user])\n",
        "\n",
        "# Gets list of users who have rated both movies in the pair\n",
        "def common_users(pair):\n",
        "    return (pair, movie_rated_by_users_dict[pair[0]].intersection(movie_rated_by_users_dict[pair[1]]))"
      ],
      "metadata": {
        "id": "p9APEJN-1cbK"
      },
      "execution_count": 545,
      "outputs": []
    },
    {
      "cell_type": "code",
      "source": [
        "def get_movie_avg_rating(movie):\n",
        "    return movie_avg_rating_dict[movie]\n",
        "\n",
        "\n",
        "def get_user_avg_rating(user):\n",
        "    return user_avg_rating_dict[user]"
      ],
      "metadata": {
        "id": "K-hkynFmDKCV"
      },
      "execution_count": 546,
      "outputs": []
    },
    {
      "cell_type": "code",
      "source": [
        "def pred_rating(entry, user_rated_movies_ratings):\n",
        "    user = entry[0][0]\n",
        "    numerator = 0\n",
        "    denominator = 0\n",
        "    for pair, pc in entry[1]:\n",
        "        numerator += user_rated_movies_ratings[user][pair[1]] * pc\n",
        "        denominator += pc\n",
        "    pred = numerator / denominator\n",
        "    return (entry[0], pred)"
      ],
      "metadata": {
        "id": "6QaldNlMOAQ5"
      },
      "execution_count": 547,
      "outputs": []
    },
    {
      "cell_type": "code",
      "source": [
        "pred = data.map(get_pairs)\\\n",
        ".map(lambda query_pair_list: (query_pair_list[0], [common_users(pair) for pair in query_pair_list[1]]))\\\n",
        "    .map(lambda query_pairs_commons: (query_pairs_commons[0], sorted([(pair, pearson_correlation(pair, commons, user_rated_movies_ratings)) for pair, commons in query_pairs_commons[1]],key= lambda x: x[1], reverse=True))[0:3])\\\n",
        "    .map(lambda final: pred_rating(final, user_rated_movies_ratings))\\\n",
        ".map(lambda x: (x[0][0],x[0][1],x[1]))"
      ],
      "metadata": {
        "id": "0M8ZMqcj9bFe"
      },
      "execution_count": 548,
      "outputs": []
    },
    {
      "cell_type": "code",
      "source": [
        "pred.take(1)"
      ],
      "metadata": {
        "colab": {
          "base_uri": "https://localhost:8080/"
        },
        "id": "ocyBn6SjKuLd",
        "outputId": "3666ab80-791e-4435-85cd-7404cf97f042"
      },
      "execution_count": 549,
      "outputs": [
        {
          "output_type": "execute_result",
          "data": {
            "text/plain": [
              "[('600', '3160', 2.756871214031464)]"
            ]
          },
          "metadata": {},
          "execution_count": 549
        }
      ]
    },
    {
      "cell_type": "code",
      "source": [
        "final_pred = pred.map(lambda x:float(x[2]))"
      ],
      "metadata": {
        "id": "TT0sYufDWww2"
      },
      "execution_count": 550,
      "outputs": []
    },
    {
      "cell_type": "code",
      "source": [
        "def cal_rmse(true, test):\n",
        "    true = true.map(lambda x: ((x[0], x[1]), float(x[2])))\n",
        "    test = test.map(lambda x: ((x[0], x[1]), float(x[2])))\n",
        "    mse = true.join(test).map(lambda x: (x[1][0], x[1][1]))\\\n",
        "        .map(lambda x: (x[0] - x[1])**2).mean()\n",
        "    rmse = math.sqrt(mse)\n",
        "    return rmse"
      ],
      "metadata": {
        "id": "mWoiC1cfTd6W"
      },
      "execution_count": 551,
      "outputs": []
    },
    {
      "cell_type": "code",
      "source": [
        "print(cal_rmse(gold_data, pred))"
      ],
      "metadata": {
        "colab": {
          "base_uri": "https://localhost:8080/"
        },
        "id": "qymteUzwX1pF",
        "outputId": "6ccc01e6-2184-45ea-9577-81546427a522"
      },
      "execution_count": 552,
      "outputs": [
        {
          "output_type": "stream",
          "name": "stdout",
          "text": [
            "0.7841211206995575\n"
          ]
        }
      ]
    },
    {
      "cell_type": "markdown",
      "source": [
        "## Movies from the training data that the user rated"
      ],
      "metadata": {
        "id": "FJZDyyGFaepB"
      }
    },
    {
      "cell_type": "code",
      "source": [
        "x = input(\"Enter User ID\")\n",
        "print(type(x))\n",
        "all_movies = []\n",
        "for movie_id in user_rated_movies_dict[x]:\n",
        "  rating = train_data.loc[train_data['movieId'] == int(x), 'rating'].values\n",
        "  all_movies.append(movies.loc[movies['movieId'] == int(movie_id), 'title'].values)\n",
        "final = list(zip(all_movies, rating))"
      ],
      "metadata": {
        "colab": {
          "base_uri": "https://localhost:8080/"
        },
        "id": "S6fpP9LValGF",
        "outputId": "309143ac-6856-4c8d-eb48-eee789933e36"
      },
      "execution_count": 592,
      "outputs": [
        {
          "output_type": "stream",
          "name": "stdout",
          "text": [
            "Enter User ID1\n",
            "<class 'str'>\n"
          ]
        }
      ]
    },
    {
      "cell_type": "markdown",
      "source": [
        "## Test Data"
      ],
      "metadata": {
        "id": "ZFdkEgqNY0Ip"
      }
    },
    {
      "cell_type": "code",
      "source": [
        "for ele in final:\n",
        "  print(f\"{ele[0][0]} has been rated of {ele[1]} by User {x}\")"
      ],
      "metadata": {
        "colab": {
          "base_uri": "https://localhost:8080/"
        },
        "id": "K-VyRCAnX-aX",
        "outputId": "5e9aa735-4045-4f54-bbff-1c93e98d11fa"
      },
      "execution_count": 605,
      "outputs": [
        {
          "output_type": "stream",
          "name": "stdout",
          "text": [
            "Dumb & Dumber (Dumb and Dumber) (1994) has been rated of 5.0 by User 1\n",
            "Gulliver's Travels (1939) has been rated of 4.5 by User 1\n",
            "Henry V (1989) has been rated of 3.5 by User 1\n",
            "Sister Act (1992) has been rated of 4.0 by User 1\n",
            "Highlander (1986) has been rated of 4.0 by User 1\n",
            "Space Jam (1996) has been rated of 4.0 by User 1\n",
            "Logan's Run (1976) has been rated of 4.0 by User 1\n",
            "Con Air (1997) has been rated of 5.0 by User 1\n",
            "American Beauty (1999) has been rated of 4.5 by User 1\n",
            "Live and Let Die (1973) has been rated of 5.0 by User 1\n",
            "Star Wars: Episode I - The Phantom Menace (1999) has been rated of 4.0 by User 1\n",
            "South Park: Bigger, Longer and Uncut (1999) has been rated of 3.0 by User 1\n",
            "Heat (1995) has been rated of 3.0 by User 1\n",
            "Shaft (2000) has been rated of 4.0 by User 1\n",
            "Wayne's World (1992) has been rated of 4.0 by User 1\n",
            "Go (1999) has been rated of 2.5 by User 1\n",
            "Robin Hood (1973) has been rated of 5.0 by User 1\n",
            "Green Mile, The (1999) has been rated of 3.0 by User 1\n",
            "Quiet Man, The (1952) has been rated of 5.0 by User 1\n",
            "Office Space (1999) has been rated of 4.0 by User 1\n",
            "Total Recall (1990) has been rated of 4.0 by User 1\n",
            "Wizard of Oz, The (1939) has been rated of 3.5 by User 1\n",
            "Howard the Duck (1986) has been rated of 4.0 by User 1\n",
            "Wolf Man, The (1941) has been rated of 5.0 by User 1\n",
            "Canadian Bacon (1995) has been rated of 4.0 by User 1\n",
            "Rocky Horror Picture Show, The (1975) has been rated of 4.0 by User 1\n",
            "Dr. No (1962) has been rated of 3.5 by User 1\n",
            "American Tail, An (1986) has been rated of 4.0 by User 1\n",
            "Twister (1996) has been rated of 5.0 by User 1\n",
            "Full Metal Jacket (1987) has been rated of 3.0 by User 1\n",
            "Transformers: The Movie (1986) has been rated of 4.0 by User 1\n",
            "Young Sherlock Holmes (1985) has been rated of 5.0 by User 1\n",
            "Groundhog Day (1993) has been rated of 4.0 by User 1\n",
            "Billy Madison (1995) has been rated of 4.0 by User 1\n",
            "Psycho (1960) has been rated of 5.0 by User 1\n",
            "Black Cauldron, The (1985) has been rated of 4.0 by User 1\n",
            "13th Warrior, The (1999) has been rated of 3.5 by User 1\n",
            "Newton Boys, The (1998) has been rated of 3.0 by User 1\n",
            "Men in Black (a.k.a. MIB) (1997) has been rated of 3.0 by User 1\n",
            "Red Dawn (1984) has been rated of 3.0 by User 1\n",
            "Talented Mr. Ripley, The (1999) has been rated of 4.0 by User 1\n",
            "Grumpier Old Men (1995) has been rated of 4.0 by User 1\n",
            "Mummy, The (1999) has been rated of 3.0 by User 1\n",
            "Pink Floyd: The Wall (1982) has been rated of 4.0 by User 1\n",
            "Man with the Golden Gun, The (1974) has been rated of 4.5 by User 1\n",
            "Dances with Wolves (1990) has been rated of 3.0 by User 1\n",
            "Alien (1979) has been rated of 5.0 by User 1\n",
            "Teenage Mutant Ninja Turtles III (1993) has been rated of 5.0 by User 1\n",
            "Messenger: The Story of Joan of Arc, The (1999) has been rated of 4.5 by User 1\n",
            "Best Men (1997) has been rated of 5.0 by User 1\n",
            "Secret of NIMH, The (1982) has been rated of 5.0 by User 1\n",
            "I Know What You Did Last Summer (1997) has been rated of 4.0 by User 1\n",
            "Schindler's List (1993) has been rated of 3.0 by User 1\n",
            "Sleeping Beauty (1959) has been rated of 2.0 by User 1\n",
            "Jungle Book, The (1994) has been rated of 3.5 by User 1\n",
            "I Still Know What You Did Last Summer (1998) has been rated of 3.5 by User 1\n",
            "Planet of the Apes (1968) has been rated of 2.0 by User 1\n",
            "Matrix, The (1999) has been rated of 5.0 by User 1\n",
            "Big (1988) has been rated of 5.0 by User 1\n",
            "Who Framed Roger Rabbit? (1988) has been rated of 4.0 by User 1\n",
            "Wedding Singer, The (1998) has been rated of 2.5 by User 1\n",
            "Young Frankenstein (1974) has been rated of 3.5 by User 1\n",
            "Kiss the Girls (1997) has been rated of 4.5 by User 1\n",
            "Rushmore (1998) has been rated of 3.5 by User 1\n",
            "Ghostbusters (a.k.a. Ghost Busters) (1984) has been rated of 5.0 by User 1\n",
            "Texas Chainsaw Massacre, The (1974) has been rated of 5.0 by User 1\n",
            "Goodfellas (1990) has been rated of 1.5 by User 1\n",
            "Thin Red Line, The (1998) has been rated of 5.0 by User 1\n",
            "Teenage Mutant Ninja Turtles II: The Secret of the Ooze (1991) has been rated of 5.0 by User 1\n",
            "Ghost and the Darkness, The (1996) has been rated of 4.0 by User 1\n",
            "Terminator, The (1984) has been rated of 4.0 by User 1\n",
            "Raiders of the Lost Ark (Indiana Jones and the Raiders of the Lost Ark) (1981) has been rated of 4.0 by User 1\n",
            "Desperado (1995) has been rated of 4.0 by User 1\n",
            "Jurassic Park (1993) has been rated of 4.5 by User 1\n",
            "Silence of the Lambs, The (1991) has been rated of 3.5 by User 1\n",
            "Fight Club (1999) has been rated of 2.5 by User 1\n",
            "Ladyhawke (1985) has been rated of 5.0 by User 1\n",
            "Duck Soup (1933) has been rated of 4.5 by User 1\n",
            "Rock, The (1996) has been rated of 4.0 by User 1\n",
            "Lord of the Rings, The (1978) has been rated of 4.0 by User 1\n",
            "SLC Punk! (1998) has been rated of 3.5 by User 1\n",
            "Star Wars: Episode VI - Return of the Jedi (1983) has been rated of 4.0 by User 1\n",
            "Mission: Impossible (1996) has been rated of 3.0 by User 1\n",
            "Forrest Gump (1994) has been rated of 4.0 by User 1\n",
            "What About Bob? (1991) has been rated of 4.0 by User 1\n",
            "Mrs. Doubtfire (1993) has been rated of 5.0 by User 1\n",
            "Last of the Mohicans, The (1992) has been rated of 3.0 by User 1\n",
            "She's the One (1996) has been rated of 5.0 by User 1\n",
            "Bottle Rocket (1996) has been rated of 5.0 by User 1\n",
            "Tron (1982) has been rated of 5.0 by User 1\n",
            "Rocketeer, The (1991) has been rated of 5.0 by User 1\n",
            "Welcome to Woop-Woop (1997) has been rated of 4.0 by User 1\n",
            "Citizen Kane (1941) has been rated of 4.5 by User 1\n",
            "NeverEnding Story, The (1984) has been rated of 3.5 by User 1\n",
            "X-Men (2000) has been rated of 4.0 by User 1\n",
            "Grumpy Old Men (1993) has been rated of 3.0 by User 1\n",
            "So I Married an Axe Murderer (1993) has been rated of 3.0 by User 1\n",
            "Seven (a.k.a. Se7en) (1995) has been rated of 3.0 by User 1\n",
            "Three Musketeers, The (1993) has been rated of 4.5 by User 1\n",
            "Thunderball (1965) has been rated of 4.0 by User 1\n",
            "Apocalypse Now (1979) has been rated of 5.0 by User 1\n",
            "Rob Roy (1995) has been rated of 4.0 by User 1\n",
            "Wild Things (1998) has been rated of 3.0 by User 1\n",
            "Goonies, The (1985) has been rated of 2.5 by User 1\n",
            "Fargo (1996) has been rated of 4.0 by User 1\n",
            "Batman Returns (1992) has been rated of 4.0 by User 1\n",
            "Lock, Stock & Two Smoking Barrels (1998) has been rated of 4.0 by User 1\n",
            "Blues Brothers, The (1980) has been rated of 3.0 by User 1\n",
            "Monty Python and the Holy Grail (1975) has been rated of 4.0 by User 1\n",
            "Shining, The (1980) has been rated of 4.0 by User 1\n",
            "Road Warrior, The (Mad Max 2) (1981) has been rated of 5.0 by User 1\n",
            "Bedknobs and Broomsticks (1971) has been rated of 4.0 by User 1\n",
            "Bambi (1942) has been rated of 4.0 by User 1\n",
            "Clockwork Orange, A (1971) has been rated of 4.0 by User 1\n",
            "Rush Hour (1998) has been rated of 4.0 by User 1\n",
            "Scream 3 (2000) has been rated of 4.5 by User 1\n"
          ]
        }
      ]
    }
  ]
}